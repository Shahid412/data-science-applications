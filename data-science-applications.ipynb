{
 "cells": [
  {
   "cell_type": "markdown",
   "metadata": {},
   "source": [
    "# Python"
   ]
  },
  {
   "cell_type": "markdown",
   "metadata": {},
   "source": [
    "# 1. Data import and cleaning"
   ]
  },
  {
   "cell_type": "code",
   "execution_count": 67,
   "metadata": {},
   "outputs": [
    {
     "data": {
      "text/html": [
       "<div>\n",
       "<style scoped>\n",
       "    .dataframe tbody tr th:only-of-type {\n",
       "        vertical-align: middle;\n",
       "    }\n",
       "\n",
       "    .dataframe tbody tr th {\n",
       "        vertical-align: top;\n",
       "    }\n",
       "\n",
       "    .dataframe thead th {\n",
       "        text-align: right;\n",
       "    }\n",
       "</style>\n",
       "<table border=\"1\" class=\"dataframe\">\n",
       "  <thead>\n",
       "    <tr style=\"text-align: right;\">\n",
       "      <th></th>\n",
       "      <th>STATION</th>\n",
       "      <th>NAME</th>\n",
       "      <th>DATE</th>\n",
       "      <th>AWND</th>\n",
       "      <th>PRCP</th>\n",
       "      <th>TAVG</th>\n",
       "      <th>TMAX</th>\n",
       "      <th>TMIN</th>\n",
       "    </tr>\n",
       "  </thead>\n",
       "  <tbody>\n",
       "    <tr>\n",
       "      <th>0</th>\n",
       "      <td>USW00024233</td>\n",
       "      <td>SEATTLE TACOMA AIRPORT, WA US</td>\n",
       "      <td>2012-10-03</td>\n",
       "      <td>16.33</td>\n",
       "      <td>0.00</td>\n",
       "      <td>NaN</td>\n",
       "      <td>66</td>\n",
       "      <td>46</td>\n",
       "    </tr>\n",
       "    <tr>\n",
       "      <th>1</th>\n",
       "      <td>USW00024233</td>\n",
       "      <td>SEATTLE TACOMA AIRPORT, WA US</td>\n",
       "      <td>2012-10-04</td>\n",
       "      <td>14.54</td>\n",
       "      <td>0.00</td>\n",
       "      <td>NaN</td>\n",
       "      <td>66</td>\n",
       "      <td>47</td>\n",
       "    </tr>\n",
       "    <tr>\n",
       "      <th>2</th>\n",
       "      <td>USW00024233</td>\n",
       "      <td>SEATTLE TACOMA AIRPORT, WA US</td>\n",
       "      <td>2012-10-05</td>\n",
       "      <td>12.75</td>\n",
       "      <td>0.00</td>\n",
       "      <td>NaN</td>\n",
       "      <td>71</td>\n",
       "      <td>48</td>\n",
       "    </tr>\n",
       "    <tr>\n",
       "      <th>3</th>\n",
       "      <td>USW00024233</td>\n",
       "      <td>SEATTLE TACOMA AIRPORT, WA US</td>\n",
       "      <td>2012-10-06</td>\n",
       "      <td>11.41</td>\n",
       "      <td>0.00</td>\n",
       "      <td>NaN</td>\n",
       "      <td>75</td>\n",
       "      <td>46</td>\n",
       "    </tr>\n",
       "    <tr>\n",
       "      <th>4</th>\n",
       "      <td>USW00024233</td>\n",
       "      <td>SEATTLE TACOMA AIRPORT, WA US</td>\n",
       "      <td>2012-10-07</td>\n",
       "      <td>2.91</td>\n",
       "      <td>0.00</td>\n",
       "      <td>NaN</td>\n",
       "      <td>75</td>\n",
       "      <td>46</td>\n",
       "    </tr>\n",
       "    <tr>\n",
       "      <th>...</th>\n",
       "      <td>...</td>\n",
       "      <td>...</td>\n",
       "      <td>...</td>\n",
       "      <td>...</td>\n",
       "      <td>...</td>\n",
       "      <td>...</td>\n",
       "      <td>...</td>\n",
       "      <td>...</td>\n",
       "    </tr>\n",
       "    <tr>\n",
       "      <th>2885</th>\n",
       "      <td>USW00024233</td>\n",
       "      <td>SEATTLE TACOMA AIRPORT, WA US</td>\n",
       "      <td>2020-08-27</td>\n",
       "      <td>5.82</td>\n",
       "      <td>0.00</td>\n",
       "      <td>67.0</td>\n",
       "      <td>81</td>\n",
       "      <td>55</td>\n",
       "    </tr>\n",
       "    <tr>\n",
       "      <th>2886</th>\n",
       "      <td>USW00024233</td>\n",
       "      <td>SEATTLE TACOMA AIRPORT, WA US</td>\n",
       "      <td>2020-08-28</td>\n",
       "      <td>7.38</td>\n",
       "      <td>0.00</td>\n",
       "      <td>68.0</td>\n",
       "      <td>78</td>\n",
       "      <td>58</td>\n",
       "    </tr>\n",
       "    <tr>\n",
       "      <th>2887</th>\n",
       "      <td>USW00024233</td>\n",
       "      <td>SEATTLE TACOMA AIRPORT, WA US</td>\n",
       "      <td>2020-08-29</td>\n",
       "      <td>5.59</td>\n",
       "      <td>0.00</td>\n",
       "      <td>66.0</td>\n",
       "      <td>70</td>\n",
       "      <td>55</td>\n",
       "    </tr>\n",
       "    <tr>\n",
       "      <th>2888</th>\n",
       "      <td>USW00024233</td>\n",
       "      <td>SEATTLE TACOMA AIRPORT, WA US</td>\n",
       "      <td>2020-08-30</td>\n",
       "      <td>6.26</td>\n",
       "      <td>0.00</td>\n",
       "      <td>61.0</td>\n",
       "      <td>73</td>\n",
       "      <td>51</td>\n",
       "    </tr>\n",
       "    <tr>\n",
       "      <th>2889</th>\n",
       "      <td>USW00024233</td>\n",
       "      <td>SEATTLE TACOMA AIRPORT, WA US</td>\n",
       "      <td>2020-08-31</td>\n",
       "      <td>NaN</td>\n",
       "      <td>0.02</td>\n",
       "      <td>63.0</td>\n",
       "      <td>71</td>\n",
       "      <td>54</td>\n",
       "    </tr>\n",
       "  </tbody>\n",
       "</table>\n",
       "<p>2890 rows × 8 columns</p>\n",
       "</div>"
      ],
      "text/plain": [
       "          STATION                           NAME        DATE   AWND  PRCP  \\\n",
       "0     USW00024233  SEATTLE TACOMA AIRPORT, WA US  2012-10-03  16.33  0.00   \n",
       "1     USW00024233  SEATTLE TACOMA AIRPORT, WA US  2012-10-04  14.54  0.00   \n",
       "2     USW00024233  SEATTLE TACOMA AIRPORT, WA US  2012-10-05  12.75  0.00   \n",
       "3     USW00024233  SEATTLE TACOMA AIRPORT, WA US  2012-10-06  11.41  0.00   \n",
       "4     USW00024233  SEATTLE TACOMA AIRPORT, WA US  2012-10-07   2.91  0.00   \n",
       "...           ...                            ...         ...    ...   ...   \n",
       "2885  USW00024233  SEATTLE TACOMA AIRPORT, WA US  2020-08-27   5.82  0.00   \n",
       "2886  USW00024233  SEATTLE TACOMA AIRPORT, WA US  2020-08-28   7.38  0.00   \n",
       "2887  USW00024233  SEATTLE TACOMA AIRPORT, WA US  2020-08-29   5.59  0.00   \n",
       "2888  USW00024233  SEATTLE TACOMA AIRPORT, WA US  2020-08-30   6.26  0.00   \n",
       "2889  USW00024233  SEATTLE TACOMA AIRPORT, WA US  2020-08-31    NaN  0.02   \n",
       "\n",
       "      TAVG  TMAX  TMIN  \n",
       "0      NaN    66    46  \n",
       "1      NaN    66    47  \n",
       "2      NaN    71    48  \n",
       "3      NaN    75    46  \n",
       "4      NaN    75    46  \n",
       "...    ...   ...   ...  \n",
       "2885  67.0    81    55  \n",
       "2886  68.0    78    58  \n",
       "2887  66.0    70    55  \n",
       "2888  61.0    73    51  \n",
       "2889  63.0    71    54  \n",
       "\n",
       "[2890 rows x 8 columns]"
      ]
     },
     "execution_count": 67,
     "metadata": {},
     "output_type": "execute_result"
    }
   ],
   "source": [
    "import pandas as pd\n",
    "\n",
    "wx = pd.read_csv(\"SeattleWeather.csv\")\n",
    "\n",
    "# Number or rows and columns\n",
    "# Column Names\n",
    "wx\n"
   ]
  },
  {
   "cell_type": "markdown",
   "metadata": {},
   "source": [
    "No. of rows: 2890\n",
    "Column names: 'STATION', 'NAME', 'DATE', 'AWND', 'PRCP', 'TAVG', 'TMAX', 'TMIN'"
   ]
  },
  {
   "cell_type": "markdown",
   "metadata": {},
   "source": [
    "Removing columns from 'wx' dataframe"
   ]
  },
  {
   "cell_type": "code",
   "execution_count": 68,
   "metadata": {},
   "outputs": [
    {
     "data": {
      "text/html": [
       "<div>\n",
       "<style scoped>\n",
       "    .dataframe tbody tr th:only-of-type {\n",
       "        vertical-align: middle;\n",
       "    }\n",
       "\n",
       "    .dataframe tbody tr th {\n",
       "        vertical-align: top;\n",
       "    }\n",
       "\n",
       "    .dataframe thead th {\n",
       "        text-align: right;\n",
       "    }\n",
       "</style>\n",
       "<table border=\"1\" class=\"dataframe\">\n",
       "  <thead>\n",
       "    <tr style=\"text-align: right;\">\n",
       "      <th></th>\n",
       "      <th>DATE</th>\n",
       "      <th>AWND</th>\n",
       "      <th>PRCP</th>\n",
       "      <th>TAVG</th>\n",
       "      <th>TMAX</th>\n",
       "      <th>TMIN</th>\n",
       "    </tr>\n",
       "  </thead>\n",
       "  <tbody>\n",
       "    <tr>\n",
       "      <th>0</th>\n",
       "      <td>2012-10-03</td>\n",
       "      <td>16.33</td>\n",
       "      <td>0.00</td>\n",
       "      <td>NaN</td>\n",
       "      <td>66</td>\n",
       "      <td>46</td>\n",
       "    </tr>\n",
       "    <tr>\n",
       "      <th>1</th>\n",
       "      <td>2012-10-04</td>\n",
       "      <td>14.54</td>\n",
       "      <td>0.00</td>\n",
       "      <td>NaN</td>\n",
       "      <td>66</td>\n",
       "      <td>47</td>\n",
       "    </tr>\n",
       "    <tr>\n",
       "      <th>2</th>\n",
       "      <td>2012-10-05</td>\n",
       "      <td>12.75</td>\n",
       "      <td>0.00</td>\n",
       "      <td>NaN</td>\n",
       "      <td>71</td>\n",
       "      <td>48</td>\n",
       "    </tr>\n",
       "    <tr>\n",
       "      <th>3</th>\n",
       "      <td>2012-10-06</td>\n",
       "      <td>11.41</td>\n",
       "      <td>0.00</td>\n",
       "      <td>NaN</td>\n",
       "      <td>75</td>\n",
       "      <td>46</td>\n",
       "    </tr>\n",
       "    <tr>\n",
       "      <th>4</th>\n",
       "      <td>2012-10-07</td>\n",
       "      <td>2.91</td>\n",
       "      <td>0.00</td>\n",
       "      <td>NaN</td>\n",
       "      <td>75</td>\n",
       "      <td>46</td>\n",
       "    </tr>\n",
       "    <tr>\n",
       "      <th>...</th>\n",
       "      <td>...</td>\n",
       "      <td>...</td>\n",
       "      <td>...</td>\n",
       "      <td>...</td>\n",
       "      <td>...</td>\n",
       "      <td>...</td>\n",
       "    </tr>\n",
       "    <tr>\n",
       "      <th>2885</th>\n",
       "      <td>2020-08-27</td>\n",
       "      <td>5.82</td>\n",
       "      <td>0.00</td>\n",
       "      <td>67.0</td>\n",
       "      <td>81</td>\n",
       "      <td>55</td>\n",
       "    </tr>\n",
       "    <tr>\n",
       "      <th>2886</th>\n",
       "      <td>2020-08-28</td>\n",
       "      <td>7.38</td>\n",
       "      <td>0.00</td>\n",
       "      <td>68.0</td>\n",
       "      <td>78</td>\n",
       "      <td>58</td>\n",
       "    </tr>\n",
       "    <tr>\n",
       "      <th>2887</th>\n",
       "      <td>2020-08-29</td>\n",
       "      <td>5.59</td>\n",
       "      <td>0.00</td>\n",
       "      <td>66.0</td>\n",
       "      <td>70</td>\n",
       "      <td>55</td>\n",
       "    </tr>\n",
       "    <tr>\n",
       "      <th>2888</th>\n",
       "      <td>2020-08-30</td>\n",
       "      <td>6.26</td>\n",
       "      <td>0.00</td>\n",
       "      <td>61.0</td>\n",
       "      <td>73</td>\n",
       "      <td>51</td>\n",
       "    </tr>\n",
       "    <tr>\n",
       "      <th>2889</th>\n",
       "      <td>2020-08-31</td>\n",
       "      <td>NaN</td>\n",
       "      <td>0.02</td>\n",
       "      <td>63.0</td>\n",
       "      <td>71</td>\n",
       "      <td>54</td>\n",
       "    </tr>\n",
       "  </tbody>\n",
       "</table>\n",
       "<p>2890 rows × 6 columns</p>\n",
       "</div>"
      ],
      "text/plain": [
       "            DATE   AWND  PRCP  TAVG  TMAX  TMIN\n",
       "0     2012-10-03  16.33  0.00   NaN    66    46\n",
       "1     2012-10-04  14.54  0.00   NaN    66    47\n",
       "2     2012-10-05  12.75  0.00   NaN    71    48\n",
       "3     2012-10-06  11.41  0.00   NaN    75    46\n",
       "4     2012-10-07   2.91  0.00   NaN    75    46\n",
       "...          ...    ...   ...   ...   ...   ...\n",
       "2885  2020-08-27   5.82  0.00  67.0    81    55\n",
       "2886  2020-08-28   7.38  0.00  68.0    78    58\n",
       "2887  2020-08-29   5.59  0.00  66.0    70    55\n",
       "2888  2020-08-30   6.26  0.00  61.0    73    51\n",
       "2889  2020-08-31    NaN  0.02  63.0    71    54\n",
       "\n",
       "[2890 rows x 6 columns]"
      ]
     },
     "execution_count": 68,
     "metadata": {},
     "output_type": "execute_result"
    }
   ],
   "source": [
    "# Removing columns from 'wx' dataframe\n",
    "\n",
    "cols=['DATE', 'AWND', 'PRCP', 'TAVG', 'TMAX', 'TMIN']\n",
    "\n",
    "wx = pd.read_csv(\"SeattleWeather.csv\",usecols=cols)\n",
    "\n",
    "wx"
   ]
  },
  {
   "cell_type": "markdown",
   "metadata": {},
   "source": [
    "Converting 'DATE' column to datetime with specified format"
   ]
  },
  {
   "cell_type": "code",
   "execution_count": 69,
   "metadata": {},
   "outputs": [
    {
     "data": {
      "text/plain": [
       "0      2012-10-03\n",
       "1      2012-10-04\n",
       "2      2012-10-05\n",
       "3      2012-10-06\n",
       "4      2012-10-07\n",
       "          ...    \n",
       "2885   2020-08-27\n",
       "2886   2020-08-28\n",
       "2887   2020-08-29\n",
       "2888   2020-08-30\n",
       "2889   2020-08-31\n",
       "Name: DATE, Length: 2890, dtype: datetime64[ns]"
      ]
     },
     "execution_count": 69,
     "metadata": {},
     "output_type": "execute_result"
    }
   ],
   "source": [
    "# Converting 'date' column to datetime with date format '%Y-%m-%d'\n",
    "import datetime\n",
    "\n",
    "wx['DATE']=pd.to_datetime(wx['DATE'])\n",
    "\n",
    "wx['DATE']"
   ]
  },
  {
   "cell_type": "markdown",
   "metadata": {},
   "source": [
    "# 2. Exploratory Data Analysis"
   ]
  },
  {
   "cell_type": "code",
   "execution_count": 70,
   "metadata": {},
   "outputs": [],
   "source": [
    "#import\n",
    "wx = pd.read_csv(\"SeattleWeather.csv\")"
   ]
  },
  {
   "cell_type": "code",
   "execution_count": 71,
   "metadata": {},
   "outputs": [
    {
     "data": {
      "text/plain": [
       "21.25"
      ]
     },
     "execution_count": 71,
     "metadata": {},
     "output_type": "execute_result"
    }
   ],
   "source": [
    "# Highest value of wind speed AWND \n",
    "\n",
    "high_awnd = wx['AWND'].max()\n",
    "high_awnd"
   ]
  },
  {
   "cell_type": "code",
   "execution_count": 72,
   "metadata": {},
   "outputs": [
    {
     "data": {
      "text/plain": [
       "'2012-10-22'"
      ]
     },
     "execution_count": 72,
     "metadata": {},
     "output_type": "execute_result"
    }
   ],
   "source": [
    "# Date of Lowest value of temprature TMIN \n",
    "\n",
    "filt=wx['TMIN'].min()\n",
    "date_of_lowest_temprature = wx.loc[filt,'DATE']\n",
    "date_of_lowest_temprature"
   ]
  },
  {
   "cell_type": "code",
   "execution_count": 73,
   "metadata": {},
   "outputs": [
    {
     "name": "stdout",
     "output_type": "stream",
     "text": [
      "Number of days when wind speed is less than 5 mph AWND :  555\n",
      "Average TMAX of those days :  60.50990990990991\n"
     ]
    }
   ],
   "source": [
    "# Number of days when wind speed is smaller than 5 mph AWND\n",
    "# and \n",
    "# Average maximum temprature of those days TMAX\n",
    "\n",
    "filt = wx['AWND']< 5\n",
    "wx2 = wx.loc[filt,'TMAX']\n",
    "\n",
    "no_of_days = wx2.count()\n",
    "sum_of_tmax = wx2.sum()\n",
    "avg_tmax = sum_of_tmax/no_of_days\n",
    "\n",
    "print(\"Number of days when wind speed is less than 5 mph AWND : \", no_of_days)\n",
    "print(\"Average TMAX of those days : \", avg_tmax)\n"
   ]
  },
  {
   "cell_type": "code",
   "execution_count": 74,
   "metadata": {},
   "outputs": [],
   "source": [
    "import seaborn as sns\n",
    "\n",
    "import matplotlib.pyplot as plt\n",
    "\n",
    "%matplotlib inline"
   ]
  },
  {
   "cell_type": "code",
   "execution_count": 75,
   "metadata": {},
   "outputs": [
    {
     "data": {
      "text/plain": [
       "DATE\n",
       "2012-12-31    21.84\n",
       "2013-12-31    32.56\n",
       "2014-12-31    48.50\n",
       "2015-12-31    44.83\n",
       "2016-12-31    45.18\n",
       "2017-12-31    47.87\n",
       "2018-12-31    35.73\n",
       "2019-12-31    33.88\n",
       "2020-12-31    24.03\n",
       "Freq: A-DEC, Name: PRCP, dtype: float64"
      ]
     },
     "execution_count": 75,
     "metadata": {},
     "output_type": "execute_result"
    }
   ],
   "source": [
    "# Creating new dataframe and display yearly rain amount PRCP amount\n",
    "\n",
    "#import\n",
    "wx = pd.read_csv(\"SeattleWeather.csv\")\n",
    "wx['DATE']=pd.to_datetime(wx['DATE'])\n",
    "wx=wx.set_index(wx.DATE)\n",
    "\n",
    "\n",
    "yearly=wx.resample('Y').sum()\n",
    "yearly.index\n",
    "yearly.PRCP\n",
    "\n"
   ]
  },
  {
   "cell_type": "code",
   "execution_count": 76,
   "metadata": {},
   "outputs": [
    {
     "data": {
      "image/png": "[encoded data removed]",
      "text/plain": [
       "<Figure size 432x288 with 1 Axes>"
      ]
     },
     "metadata": {
      "needs_background": "light"
     },
     "output_type": "display_data"
    }
   ],
   "source": [
    "ax = yearly.PRCP.value_counts().plot(kind='bar',lw=2, title='Total Rain Participation Amount PRCP per YEAR')\n",
    "ax.set_xlabel(\"Year\")\n",
    "ax.set_ylabel(\"Total Rain Participation Amount PRCP\")\n",
    "\n",
    "ax= sns.barplot(x=yearly.index, y=yearly.PRCP , data=yearly)\n",
    "\n",
    "fig = ax.get_figure()\n",
    "fig.savefig('plot.png')"
   ]
  },
  {
   "cell_type": "markdown",
   "metadata": {},
   "source": [
    "# 3. Linear Regression Model"
   ]
  },
  {
   "cell_type": "code",
   "execution_count": 77,
   "metadata": {},
   "outputs": [
    {
     "data": {
      "image/png": "[encoded data removed]",
      "text/plain": [
       "<Figure size 432x288 with 1 Axes>"
      ]
     },
     "metadata": {
      "needs_background": "light"
     },
     "output_type": "display_data"
    }
   ],
   "source": [
    "import numpy as np\n",
    "import pandas as pd\n",
    "from matplotlib import pyplot as plt\n",
    "import seaborn as sns\n",
    "\n",
    "from sklearn.linear_model import LinearRegression\n",
    "\n",
    "# LinearRegression will expect an array of shape (n, 1) \n",
    "# for the \"Training data\"\n",
    "# target data is array of shape (n,) \n",
    "X = wx['TMIN'].values[:,np.newaxis]\n",
    "y = wx['TMAX'].values\n",
    "\n",
    "\n",
    "model = LinearRegression()\n",
    "model.fit(X, y)\n",
    "\n",
    "plt.scatter(X, y,color='g')\n",
    "plt.plot(X, model.predict(X),color='k')\n",
    "\n",
    "plt.show()"
   ]
  },
  {
   "cell_type": "code",
   "execution_count": 78,
   "metadata": {},
   "outputs": [
    {
     "name": "stdout",
     "output_type": "stream",
     "text": [
      "0.9841543335913485\n",
      "[1.29574354]\n"
     ]
    }
   ],
   "source": [
    "print(model.intercept_)\n",
    "print(model.coef_)"
   ]
  },
  {
   "cell_type": "markdown",
   "metadata": {},
   "source": [
    "What does slope co-efficient tell us? \n",
    "It tells us that for every one unit of change in TMIN, the change in TMAX is about 1.29%. Or in simpler words, if TMIN changes one unit, there is an expectation of change of 1.29% in TMAX. "
   ]
  },
  {
   "cell_type": "markdown",
   "metadata": {},
   "source": [
    "# 4. Model Selection (Adjusted R-Squared)"
   ]
  },
  {
   "cell_type": "code",
   "execution_count": 79,
   "metadata": {},
   "outputs": [
    {
     "name": "stdout",
     "output_type": "stream",
     "text": [
      "0.7813864445157556 0.7813107473012527\n",
      "0.7813864445157557 0.7813107473012528\n"
     ]
    }
   ],
   "source": [
    "# Adjusted R-square for model 1\n",
    "\n",
    "\n",
    "from sklearn.linear_model import LinearRegression\n",
    "model = LinearRegression()\n",
    "X, y = wx[['TMIN']], wx.TMAX\n",
    "model.fit(X, y)\n",
    "\n",
    "# compute with formulas from the theory\n",
    "yhat = model.predict(X)\n",
    "SS_Residual = sum((y-yhat)**2)\n",
    "SS_Total = sum((y-np.mean(y))**2)\n",
    "r_squared = 1 - (float(SS_Residual))/SS_Total\n",
    "adjusted_r_squared = 1 - (1-r_squared)*(len(y)-1)/(len(y)-X.shape[1]-1)\n",
    "print (r_squared, adjusted_r_squared)\n",
    "# 0.877643371323 0.863248473832\n",
    "\n",
    "# compute with sklearn linear_model, although could not find any function to compute adjusted-r-square directly from documentation\n",
    "print (model.score(X, y), 1 - (1-model.score(X, y))*(len(y)-1)/(len(y)-X.shape[1]-1))\n",
    "# 0.877643371323 0.863248473832 \n"
   ]
  },
  {
   "cell_type": "code",
   "execution_count": 82,
   "metadata": {},
   "outputs": [
    {
     "name": "stdout",
     "output_type": "stream",
     "text": [
      "0.791545521749489 0.7914010626516024\n",
      "0.7915455217494894 0.7914010626516028\n"
     ]
    }
   ],
   "source": [
    "# Adjusted R-square for model 1\n",
    "\n",
    "from sklearn.linear_model import LinearRegression\n",
    "\n",
    "wx.dropna(subset = [\"TMIN\"], inplace=True)\n",
    "wx.dropna(subset = [\"TMAX\"], inplace=True)\n",
    "wx.dropna(subset = [\"AWND\"], inplace=True)\n",
    "\n",
    "model = LinearRegression()\n",
    "X, y = wx[['TMIN','AWND']], wx.TMAX\n",
    "model.fit(X, y)\n",
    "\n",
    "# compute with formulas from the theory\n",
    "yhat = model.predict(X)\n",
    "SS_Residual = sum((y-yhat)**2)\n",
    "SS_Total = sum((y-np.mean(y))**2)\n",
    "r_squared = 1 - (float(SS_Residual))/SS_Total\n",
    "adjusted_r_squared = 1 - (1-r_squared)*(len(y)-1)/(len(y)-X.shape[1]-1)\n",
    "print (r_squared, adjusted_r_squared)\n",
    "# 0.877643371323 0.863248473832\n",
    "\n",
    "# compute with sklearn linear_model, although could not find any function to compute adjusted-r-square directly from documentation\n",
    "print (model.score(X, y), 1 - (1-model.score(X, y))*(len(y)-1)/(len(y)-X.shape[1]-1))\n",
    "# 0.877643371323 0.863248473832 \n"
   ]
  },
  {
   "cell_type": "markdown",
   "metadata": {},
   "source": [
    "Comments: As we can observe that the second model with two covariates TMIN and AWND has higher Adjusted R-squared. Hence, we can make a comment that this is a better model than other one. "
   ]
  },
  {
   "cell_type": "markdown",
   "metadata": {},
   "source": [
    "# 5. Graphical Summary"
   ]
  },
  {
   "cell_type": "code",
   "execution_count": 81,
   "metadata": {},
   "outputs": [
    {
     "data": {
      "image/png": "[encoded data removed]",
      "text/plain": [
       "<Figure size 432x288 with 1 Axes>"
      ]
     },
     "metadata": {
      "needs_background": "light"
     },
     "output_type": "display_data"
    }
   ],
   "source": [
    "import matplotlib as mp\n",
    "\n",
    "import numpy as np\n",
    "\n",
    "mp.use('TkAgg')\n",
    "import matplotlib.pyplot as plt\n",
    "\n",
    "plt.title(\"Temprature vs. Total rain fall\")\n",
    "plt.xlabel('Average Temprature')\n",
    "plt.ylabel('Total Rainfall')\n",
    "plt.bar(yearly.PRCP, yearly.TAVG, color=\"blue\")\n",
    "plt.show()"
   ]
  },
  {
   "cell_type": "code",
   "execution_count": null,
   "metadata": {},
   "outputs": [],
   "source": []
  }
 ],
 "metadata": {
  "kernelspec": {
   "display_name": "Python 3",
   "language": "python",
   "name": "python3"
  },
  "language_info": {
   "codemirror_mode": {
    "name": "ipython",
    "version": 3
   },
   "file_extension": ".py",
   "mimetype": "text/x-python",
   "name": "python",
   "nbconvert_exporter": "python",
   "pygments_lexer": "ipython3",
   "version": "3.7.4"
  }
 },
 "nbformat": 4,
 "nbformat_minor": 2
}
